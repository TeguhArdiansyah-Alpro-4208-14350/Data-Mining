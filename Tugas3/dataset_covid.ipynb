{
  "cells": [
    {
      "cell_type": "markdown",
      "metadata": {
        "id": "0nSolP0NU8-j"
      },
      "source": [
        "**DATA MINING - Teguh Ardiansyah (A11.2022.14350)**"
      ]
    },
    {
      "cell_type": "code",
      "execution_count": 1,
      "metadata": {
        "colab": {
          "base_uri": "https://localhost:8080/"
        },
        "id": "lZSQLkO8Htz1",
        "outputId": "1c46ae5a-78da-4ea1-a7cf-5122a5224729"
      },
      "outputs": [
        {
          "name": "stdout",
          "output_type": "stream",
          "text": [
            "Mounted at /content/drive\n"
          ]
        }
      ],
      "source": [
        "from fpdf import FPDF\n",
        "\n",
        "# Create instance of FPDF class\n",
        "pdf = FPDF()\n",
        "pdf.add_page()\n",
        "pdf.set_auto_page_break(auto=True, margin=15)\n",
        "pdf.set_font(\"Arial\", size=12)\n",
        "\n",
        "# Add title\n",
        "pdf.set_font(\"Arial\", 'B', size=14)\n",
        "pdf.cell(0, 10, \"Draft Eksperimen Tugas Akhir\", ln=True, align='C')\n",
        "pdf.ln(10)\n",
        "\n",
        "# Add content\n",
        "content = [\n",
        "    (\"Topik / Judul\", \"Analisis Tren dan Faktor-Faktor Penyebaran COVID-19 Berdasarkan Data Kasus Harian\"),\n",
        "    \n",
        "    (\"Deskripsi Singkat (Ringkasan BU / DU)\", \n",
        "     \"Pandemi COVID-19 telah berdampak signifikan pada kesehatan masyarakat global, perekonomian, dan kehidupan sosial di berbagai negara. \"\n",
        "     \"Untuk memahami penyebaran dan pola kasus COVID-19, eksperimen ini akan menganalisis data terkait jumlah kasus harian, tingkat kematian, \"\n",
        "     \"tingkat kesembuhan, dan kebijakan yang diberlakukan di beberapa negara selama pandemi. Dengan pemahaman ini, kita bisa mengidentifikasi \"\n",
        "     \"faktor-faktor utama yang memengaruhi peningkatan atau penurunan kasus COVID-19 dan dampak dari kebijakan yang diterapkan.\"),\n",
        "    \n",
        "    (\"Masalah dan Tujuan yang Ingin Dicapai\", \n",
        "     \"Tujuan utama dari eksperimen ini adalah untuk:\\n\"\n",
        "     \"1. Mengidentifikasi pola tren kasus COVID-19 berdasarkan data harian di berbagai negara.\\n\"\n",
        "     \"2. Menganalisis pengaruh faktor-faktor seperti kebijakan pembatasan, tingkat pengujian, dan tingkat vaksinasi terhadap jumlah kasus aktif \"\n",
        "     \"dan tingkat kematian.\\n3. Memberikan rekomendasi untuk penanganan pandemi berdasarkan hasil analisis pola data.\\n\\n\"\n",
        "     \"Masalah yang ingin dijawab antara lain:\\n\"\n",
        "     \"- Apakah ada hubungan signifikan antara tingkat vaksinasi dan penurunan kasus aktif?\\n\"\n",
        "     \"- Bagaimana pengaruh kebijakan pembatasan pada jumlah kasus aktif dan angka kematian?\\n\"\n",
        "     \"- Faktor-faktor apa yang paling memengaruhi perbedaan kasus COVID-19 antar negara?\"),\n",
        "    \n",
        "    (\"Alur / Tahapan / Kerangka Eksperimen\",\n",
        "     \"1. Pengumpulan dan Pembersihan Data: Mengumpulkan data COVID-19 dari sumber terpercaya atau menggunakan dataset sintesis.\\n\"\n",
        "     \"2. Eksplorasi Data: Meninjau data untuk melihat pola distribusi, mengidentifikasi anomali atau data yang hilang.\\n\"\n",
        "     \"3. Analisis Korelasi: Menganalisis hubungan antara variabel seperti tingkat vaksinasi, tingkat pengujian, dan indeks kebijakan.\\n\"\n",
        "     \"4. Pemodelan Data: Menggunakan model regresi atau analisis time series untuk memahami pola kenaikan atau penurunan kasus.\\n\"\n",
        "     \"5. Evaluasi Hasil: Menilai efektivitas model dan mengidentifikasi faktor yang memengaruhi penyebaran COVID-19.\\n\"\n",
        "     \"6. Kesimpulan dan Rekomendasi: Memberikan rekomendasi kebijakan penanganan pandemi berdasarkan hasil eksperimen.\"),\n",
        "    \n",
        "    (\"Penjelasan Dataset\", \n",
        "     \"Dataset yang digunakan dalam eksperimen ini adalah dataset COVID-19 harian dengan atribut:\\n\"\n",
        "     \"- Tanggal: Tanggal pencatatan data harian.\\n\"\n",
        "     \"- Negara: Nama negara tempat data dikumpulkan.\\n\"\n",
        "     \"- Provinsi/Negara Bagian: Nama provinsi atau negara bagian (jika tersedia).\\n\"\n",
        "     \"- Kasus Terkonfirmasi: Total kasus COVID-19 yang telah dikonfirmasi pada tanggal tersebut.\\n\"\n",
        "     \"- Kematian: Jumlah total kematian yang disebabkan oleh COVID-19 pada tanggal tersebut.\\n\"\n",
        "     \"- Sembuh: Total kasus yang dilaporkan sembuh pada tanggal tersebut.\\n\"\n",
        "     \"- Kasus Aktif: Kasus yang masih aktif pada tanggal tersebut.\\n\"\n",
        "     \"- Kasus Baru: Jumlah kasus baru yang dilaporkan pada tanggal tersebut.\\n\"\n",
        "     \"- Kematian Baru: Jumlah kematian baru yang dilaporkan pada tanggal tersebut.\\n\"\n",
        "     \"- Tingkat Pengujian: Jumlah tes per 1.000 orang.\\n\"\n",
        "     \"- Tingkat Vaksinasi: Persentase populasi yang telah divaksinasi pada tanggal tersebut.\\n\"\n",
        "     \"- Indeks Ketat Kebijakan: Ukuran kebijakan pembatasan, 0-100.\\n\"\n",
        "     \"- Populasi: Populasi negara/provinsi tempat data diambil.\")\n",
        "]\n",
        "\n",
        "# Add sections\n",
        "pdf.set_font(\"Arial\", size=12)\n",
        "for title, text in content:\n",
        "    pdf.set_font(\"Arial\", 'B', size=12)\n",
        "    pdf.cell(0, 10, title, ln=True)\n",
        "    pdf.set_font(\"Arial\", size=12)\n",
        "    pdf.multi_cell(0, 10, text)\n",
        "    pdf.ln(5)\n",
        "\n",
        "# Save the PDF file\n",
        "pdf_output_path = \"/mnt/data/Draft_Eksperimen_Tugas_Akhir_COVID19.pdf\"\n",
        "pdf.output(pdf_output_path)\n",
        "\n",
        "pdf_output_path\n"
      ]
    },
    {
      "cell_type": "code",
      "execution_count": 2,
      "metadata": {
        "id": "inOmCiIRIzTb"
      },
      "outputs": [],
      "source": [
        "import pandas as pd\n",
        "import numpy as np\n",
        "from datetime import datetime, timedelta\n",
        "\n",
        "# Tentukan jumlah data\n",
        "jumlah_data = 100\n",
        "\n",
        "# Generate data tanggal secara acak\n",
        "tanggal_awal = datetime.strptime(\"2021-01-01\", \"%Y-%m-%d\")\n",
        "tanggal = [tanggal_awal + timedelta(days=int(np.random.randint(0, 365))) for _ in range(jumlah_data)]\n",
        "\n",
        "# Data negara acak\n",
        "negara = np.random.choice(['Indonesia', 'Amerika Serikat', 'India', 'Brazil', 'Rusia'], jumlah_data)\n",
        "\n",
        "# Data provinsi acak\n",
        "provinsi = np.random.choice(['Jakarta', 'New York', 'Maharashtra', 'São Paulo', 'Moscow'], jumlah_data)\n",
        "\n",
        "# Kasus COVID-19 acak\n",
        "kasus_terkonfirmasi = np.random.randint(1000, 500000, jumlah_data)\n",
        "kematian = np.random.randint(50, 5000, jumlah_data)\n",
        "sembuh = np.random.randint(100, 300000, jumlah_data)\n",
        "kasus_aktif = kasus_terkonfirmasi - kematian - sembuh\n",
        "\n",
        "# Kasus baru dan kematian baru acak\n",
        "kasus_baru = np.random.randint(10, 500, jumlah_data)\n",
        "kematian_baru = np.random.randint(1, 100, jumlah_data)\n",
        "\n",
        "# Tingkat pengujian dan tingkat vaksinasi acak\n",
        "tingkat_pengujian = np.random.uniform(1, 5, jumlah_data).round(2)\n",
        "tingkat_vaksinasi = np.random.uniform(10, 90, jumlah_data).round(2)\n",
        "\n",
        "# Indeks ketat kebijakan acak\n",
        "indeks_ketat_kebijakan = np.random.randint(0, 100, jumlah_data)\n",
        "\n",
        "# Populasi negara/provinsi\n",
        "populasi = np.random.randint(1000000, 50000000, jumlah_data)\n"
      ]
    },
    {
      "cell_type": "code",
      "execution_count": 3,
      "metadata": {
        "colab": {
          "base_uri": "https://localhost:8080/"
        },
        "id": "Z0BcFFNAI-yX",
        "outputId": "3928797d-9e0a-4873-d8b1-7a80939f09f2"
      },
      "outputs": [
        {
          "name": "stdout",
          "output_type": "stream",
          "text": [
            "First of the dataset:\n"
          ]
        }
      ],
      "source": [
        "print(\"First of the dataset:\")\n"
      ]
    },
    {
      "cell_type": "code",
      "execution_count": 4,
      "metadata": {
        "id": "Uc_4p6TXJXaP"
      },
      "outputs": [],
      "source": [
        "data = pd.read_excel('/content/drive/My Drive/Colab Notebooks/DataKasus-3/dataKasus-3.xlsx')\n"
      ]
    },
    {
      "cell_type": "code",
      "execution_count": null,
      "metadata": {
        "colab": {
          "base_uri": "https://localhost:8080/",
          "height": 206
        },
        "id": "SJRzPnE1JJmo",
        "outputId": "652f360c-6857-42be-c084-9b860caa4130"
      },
      "outputs": [],
      "source": [
        "data.head()"
      ]
    },
    {
      "cell_type": "markdown",
      "metadata": {},
      "source": [
        "<class 'pandas.core.frame.DataFrame'>\n",
        "RangeIndex: 561 entries, 0 to 560\n",
        "Data columns (total 13 columns):\n",
        "\n",
        "  #          Nama Kolom\t                Deskripsi                   Non-Null Count          Dtype\n",
        "--------------------------------------------------------------------------------------------------                                                                \n",
        "  0         Tanggal\t                    22/10/28                    561 non-null            int64\n",
        "  1         Negara\t                    Indonesia                   561 non-null            object\n",
        "  2         Provinsi/Negara Bagian\t    DKI Jakarta                 561 non-null            object\n",
        "  3         Kasus Terkonfirmasi\t        1.200.000 positif           561 non-null            int64\n",
        "  4         Kematian\t                300.000 korban jiwa         561 non-null            object\n",
        "  5         Sembuh\t                    1.150.000 sembuh            561 non-null            object\n",
        "  6         Kasus Aktif\t                20.000                      561 non-null            object\n",
        "  7         Kasus Baru\t                150                         561 non-null            object\n",
        "  8         Kematian Baru\t            2                           561 non-null            object\n",
        "  9         Tingkat Pengujian\t        300                         561 non-null            object\n",
        "  10        Tingkat Vaksinasi\t        70%                         561 non-null            object\n",
        "  11        Indeks Ketat Kebijakan\t    50                          561 non-null            object\n",
        "  12        Populasi\t                10.000.000                  11  non-null            object\n",
        "\n",
        "dtypes: int64(2), object(11)\n",
        "memory usage: 57.1+ KB"
      ]
    },
    {
      "cell_type": "code",
      "execution_count": null,
      "metadata": {
        "colab": {
          "base_uri": "https://localhost:8080/",
          "height": 206
        },
        "id": "C3_u3ukwS6C3",
        "outputId": "e2918d2e-0370-4a16-bf51-2a474649ffcf"
      },
      "outputs": [],
      "source": [
        "data.tail()"
      ]
    },
    {
      "cell_type": "markdown",
      "metadata": {},
      "source": [
        "<class 'pandas.core.frame.DataFrame'>\n",
        "RangeIndex: 561 entries, 0 to 560\n",
        "Data columns (total 13 columns):\n",
        "\n",
        "  #          Nama Kolom\t                Deskripsi                   Non-Null Count          Dtype\n",
        "--------------------------------------------------------------------------------------------------                                                                \n",
        "  0         Tanggal\t                    22/10/28                    561 non-null            int64\n",
        "  1         Negara\t                    Indonesia                   561 non-null            object\n",
        "  2         Provinsi/Negara Bagian\t    DKI Jakarta                 561 non-null            object\n",
        "  3         Kasus Terkonfirmasi\t        1.200.000 positif           561 non-null            int64\n",
        "  4         Kematian\t                300.000 korban jiwa         561 non-null            object\n",
        "  5         Sembuh\t                    1.150.000 sembuh            561 non-null            object\n",
        "  6         Kasus Aktif\t                20.000                      561 non-null            object\n",
        "  7         Kasus Baru\t                150                         561 non-null            object\n",
        "  8         Kematian Baru\t            2                           561 non-null            object\n",
        "  9         Tingkat Pengujian\t        300                         561 non-null            object\n",
        "  10        Tingkat Vaksinasi\t        70%                         561 non-null            object\n",
        "  11        Indeks Ketat Kebijakan\t    50                          561 non-null            object\n",
        "  12        Populasi\t                10.000.000                  11  non-null            object\n",
        "\n",
        "dtypes: int64(2), object(11)\n",
        "memory usage: 57.1+ KB"
      ]
    },
    {
      "cell_type": "code",
      "execution_count": 7,
      "metadata": {
        "colab": {
          "base_uri": "https://localhost:8080/"
        },
        "id": "Uw453aNyKvom",
        "outputId": "c657eddb-cbd2-4319-e554-e93aeab12772"
      },
      "outputs": [],
      "source": [
        "data.info()"
      ]
    },
    {
      "cell_type": "markdown",
      "metadata": {},
      "source": [
        "<class 'pandas.core.frame.DataFrame'>\n",
        "RangeIndex: 561 entries, 0 to 560\n",
        "Data columns (total 13 columns):\n",
        "\n",
        "  #          Nama Kolom\t                Deskripsi                   Non-Null Count          Dtype\n",
        "--------------------------------------------------------------------------------------------------                                                                \n",
        "  0         Tanggal\t                    22/10/28                    561 non-null            int64\n",
        "  1         Negara\t                    Indonesia                   561 non-null            object\n",
        "  2         Provinsi/Negara Bagian\t    DKI Jakarta                 561 non-null            object\n",
        "  3         Kasus Terkonfirmasi\t        1.200.000 positif           561 non-null            int64\n",
        "  4         Kematian\t                300.000 korban jiwa         561 non-null            object\n",
        "  5         Sembuh\t                    1.150.000 sembuh            561 non-null            object\n",
        "  6         Kasus Aktif\t                20.000                      561 non-null            object\n",
        "  7         Kasus Baru\t                150                         561 non-null            object\n",
        "  8         Kematian Baru\t            2                           561 non-null            object\n",
        "  9         Tingkat Pengujian\t        300                         561 non-null            object\n",
        "  10        Tingkat Vaksinasi\t        70%                         561 non-null            object\n",
        "  11        Indeks Ketat Kebijakan\t    50                          561 non-null            object\n",
        "  12        Populasi\t                10.000.000                  11  non-null            object\n",
        "\n",
        "dtypes: int64(2), object(11)\n",
        "memory usage: 57.1+ KB"
      ]
    },
    {
      "cell_type": "code",
      "execution_count": 8,
      "metadata": {
        "id": "CYBi8DwSTEU6"
      },
      "outputs": [],
      "source": [
        "data.columns=[data_covid = pd.DataFrame({\n",
        "    'Tanggal': tanggal,\n",
        "    'Negara': negara,\n",
        "    'Provinsi/Negara Bagian': provinsi,\n",
        "    'Kasus Terkonfirmasi': kasus_terkonfirmasi,\n",
        "    'Kematian': kematian,\n",
        "    'Sembuh': sembuh,\n",
        "    'Kasus Aktif': kasus_aktif,\n",
        "    'Kasus Baru': kasus_baru,\n",
        "    'Kematian Baru': kematian_baru,\n",
        "    'Tingkat Pengujian': tingkat_pengujian,\n",
        "    'Tingkat Vaksinasi': tingkat_vaksinasi,\n",
        "    'Indeks Ketat Kebijakan': indeks_ketat_kebijakan,\n",
        "    'Populasi': populasi\n",
        "})\n",
        "\n",
        "# Simpan dataset sebagai file CSV\n",
        "data_covid.to_csv('dataset_covid_contoh.csv', index=False)]"
      ]
    },
    {
      "cell_type": "code",
      "execution_count": 9,
      "metadata": {
        "colab": {
          "base_uri": "https://localhost:8080/",
          "height": 206
        },
        "id": "XISIsNFPULzk",
        "outputId": "d18d5d72-d890-4425-b0bb-892cafc525cb"
      },
      "outputs": [],
      "source": [
        "data.head()"
      ]
    },
    {
      "cell_type": "markdown",
      "metadata": {},
      "source": [
        "<class 'pandas.core.frame.DataFrame'>\n",
        "RangeIndex: 561 entries, 0 to 560\n",
        "Data columns (total 13 columns):\n",
        "\n",
        "  #          Nama Kolom\t                Deskripsi                   Non-Null Count          Dtype\n",
        "--------------------------------------------------------------------------------------------------                                                                \n",
        "  0         Tanggal\t                    22/10/28                    561 non-null            int64\n",
        "  1         Negara\t                    Indonesia                   561 non-null            object\n",
        "  2         Provinsi/Negara Bagian\t    DKI Jakarta                 561 non-null            object\n",
        "  3         Kasus Terkonfirmasi\t        1.200.000 positif           561 non-null            int64\n",
        "  4         Kematian\t                300.000 korban jiwa         561 non-null            object\n",
        "  5         Sembuh\t                    1.150.000 sembuh            561 non-null            object\n",
        "  6         Kasus Aktif\t                20.000                      561 non-null            object\n",
        "  7         Kasus Baru\t                150                         561 non-null            object\n",
        "  8         Kematian Baru\t            2                           561 non-null            object\n",
        "  9         Tingkat Pengujian\t        300                         561 non-null            object\n",
        "  10        Tingkat Vaksinasi\t        70%                         561 non-null            object\n",
        "  11        Indeks Ketat Kebijakan\t    50                          561 non-null            object\n",
        "  12        Populasi\t                10.000.000                  11  non-null            object\n",
        "\n",
        "dtypes: int64(2), object(11)\n",
        "memory usage: 57.1+ KB"
      ]
    },
    {
      "cell_type": "code",
      "execution_count": 10,
      "metadata": {
        "id": "Z8l2PORvK38v"
      },
      "outputs": [],
      "source": [
        "data = data.drop_duplicates()"
      ]
    },
    {
      "cell_type": "code",
      "execution_count": null,
      "metadata": {
        "colab": {
          "base_uri": "https://localhost:8080/"
        },
        "id": "CUaYdiaSK7n2",
        "outputId": "52486d5d-edf7-419b-ac13-07f8d9d8ebf6"
      },
      "outputs": [],
      "source": [
        "data.info()"
      ]
    },
    {
      "cell_type": "markdown",
      "metadata": {},
      "source": [
        "<class 'pandas.core.frame.DataFrame'>\n",
        "RangeIndex: 561 entries, 0 to 560\n",
        "Data columns (total 13 columns):\n",
        "\n",
        "  #          Nama Kolom\t                Deskripsi                   Non-Null Count          Dtype\n",
        "--------------------------------------------------------------------------------------------------                                                                \n",
        "  0         Tanggal\t                    22/10/28                    561 non-null            int64\n",
        "  1         Negara\t                    Indonesia                   561 non-null            object\n",
        "  2         Provinsi/Negara Bagian\t    DKI Jakarta                 561 non-null            object\n",
        "  3         Kasus Terkonfirmasi\t        1.200.000 positif           561 non-null            int64\n",
        "  4         Kematian\t                300.000 korban jiwa         561 non-null            object\n",
        "  5         Sembuh\t                    1.150.000 sembuh            561 non-null            object\n",
        "  6         Kasus Aktif\t                20.000                      561 non-null            object\n",
        "  7         Kasus Baru\t                150                         561 non-null            object\n",
        "  8         Kematian Baru\t            2                           561 non-null            object\n",
        "  9         Tingkat Pengujian\t        300                         561 non-null            object\n",
        "  10        Tingkat Vaksinasi\t        70%                         561 non-null            object\n",
        "  11        Indeks Ketat Kebijakan\t    50                          561 non-null            object\n",
        "  12        Populasi\t                10.000.000                  11  non-null            object\n",
        "\n",
        "dtypes: int64(2), object(11)\n",
        "memory usage: 57.1+ KB"
      ]
    },
    {
      "cell_type": "code",
      "execution_count": 12,
      "metadata": {
        "colab": {
          "base_uri": "https://localhost:8080/",
          "height": 300
        },
        "id": "yopvN00dLBxm",
        "outputId": "ee9e7a94-d577-4e40-b2a5-5bd0a71ba3f1"
      },
      "outputs": [
        {
          "data": {
            "application/vnd.google.colaboratory.intrinsic+json": {
              "summary": "{\n  \"name\": \"data\",\n  \"rows\": 8,\n  \"fields\": [\n    {\n      \"column\": \"NO\",\n      \"properties\": {\n        \"dtype\": \"number\",\n        \"std\": 201.99117289979384,\n        \"min\": 1.0,\n        \"max\": 562.0,\n        \"num_unique_values\": 8,\n        \"samples\": [\n          281.85918003565064,\n          282.0,\n          561.0\n        ],\n        \"semantic_type\": \"\",\n        \"description\": \"\"\n      }\n    },\n    {\n      \"column\": \"PARITAS\",\n      \"properties\": {\n        \"dtype\": \"number\",\n        \"std\": 197.6583772507341,\n        \"min\": 0.0,\n        \"max\": 561.0,\n        \"num_unique_values\": 7,\n        \"samples\": [\n          561.0,\n          1.7094474153297683,\n          2.0\n        ],\n        \"semantic_type\": \"\",\n        \"description\": \"\"\n      }\n    }\n  ]\n}",
              "type": "dataframe"
            },
            "text/html": [
              "\n",
              "  <div id=\"df-1d1987a1-4cfd-442c-829b-5a4979674941\" class=\"colab-df-container\">\n",
              "    <div>\n",
              "<style scoped>\n",
              "    .dataframe tbody tr th:only-of-type {\n",
              "        vertical-align: middle;\n",
              "    }\n",
              "\n",
              "    .dataframe tbody tr th {\n",
              "        vertical-align: top;\n",
              "    }\n",
              "\n",
              "    .dataframe thead th {\n",
              "        text-align: right;\n",
              "    }\n",
              "</style>\n",
              "<table border=\"1\" class=\"dataframe\">\n",
              "  <thead>\n",
              "    <tr style=\"text-align: right;\">\n",
              "      <th></th>\n",
              "      <th>NO</th>\n",
              "      <th>PARITAS</th>\n",
              "    </tr>\n",
              "  </thead>\n",
              "  <tbody>\n",
              "    <tr>\n",
              "      <th>count</th>\n",
              "      <td>561.000000</td>\n",
              "      <td>561.000000</td>\n",
              "    </tr>\n",
              "    <tr>\n",
              "      <th>mean</th>\n",
              "      <td>281.859180</td>\n",
              "      <td>1.709447</td>\n",
              "    </tr>\n",
              "    <tr>\n",
              "      <th>std</th>\n",
              "      <td>162.301009</td>\n",
              "      <td>1.012105</td>\n",
              "    </tr>\n",
              "    <tr>\n",
              "      <th>min</th>\n",
              "      <td>1.000000</td>\n",
              "      <td>0.000000</td>\n",
              "    </tr>\n",
              "    <tr>\n",
              "      <th>25%</th>\n",
              "      <td>142.000000</td>\n",
              "      <td>1.000000</td>\n",
              "    </tr>\n",
              "    <tr>\n",
              "      <th>50%</th>\n",
              "      <td>282.000000</td>\n",
              "      <td>2.000000</td>\n",
              "    </tr>\n",
              "    <tr>\n",
              "      <th>75%</th>\n",
              "      <td>422.000000</td>\n",
              "      <td>2.000000</td>\n",
              "    </tr>\n",
              "    <tr>\n",
              "      <th>max</th>\n",
              "      <td>562.000000</td>\n",
              "      <td>6.000000</td>\n",
              "    </tr>\n",
              "  </tbody>\n",
              "</table>\n",
              "</div>\n",
              "    <div class=\"colab-df-buttons\">\n",
              "\n",
              "  <div class=\"colab-df-container\">\n",
              "    <button class=\"colab-df-convert\" onclick=\"convertToInteractive('df-1d1987a1-4cfd-442c-829b-5a4979674941')\"\n",
              "            title=\"Convert this dataframe to an interactive table.\"\n",
              "            style=\"display:none;\">\n",
              "\n",
              "  <svg xmlns=\"http://www.w3.org/2000/svg\" height=\"24px\" viewBox=\"0 -960 960 960\">\n",
              "    <path d=\"M120-120v-720h720v720H120Zm60-500h600v-160H180v160Zm220 220h160v-160H400v160Zm0 220h160v-160H400v160ZM180-400h160v-160H180v160Zm440 0h160v-160H620v160ZM180-180h160v-160H180v160Zm440 0h160v-160H620v160Z\"/>\n",
              "  </svg>\n",
              "    </button>\n",
              "\n",
              "  <style>\n",
              "    .colab-df-container {\n",
              "      display:flex;\n",
              "      gap: 12px;\n",
              "    }\n",
              "\n",
              "    .colab-df-convert {\n",
              "      background-color: #E8F0FE;\n",
              "      border: none;\n",
              "      border-radius: 50%;\n",
              "      cursor: pointer;\n",
              "      display: none;\n",
              "      fill: #1967D2;\n",
              "      height: 32px;\n",
              "      padding: 0 0 0 0;\n",
              "      width: 32px;\n",
              "    }\n",
              "\n",
              "    .colab-df-convert:hover {\n",
              "      background-color: #E2EBFA;\n",
              "      box-shadow: 0px 1px 2px rgba(60, 64, 67, 0.3), 0px 1px 3px 1px rgba(60, 64, 67, 0.15);\n",
              "      fill: #174EA6;\n",
              "    }\n",
              "\n",
              "    .colab-df-buttons div {\n",
              "      margin-bottom: 4px;\n",
              "    }\n",
              "\n",
              "    [theme=dark] .colab-df-convert {\n",
              "      background-color: #3B4455;\n",
              "      fill: #D2E3FC;\n",
              "    }\n",
              "\n",
              "    [theme=dark] .colab-df-convert:hover {\n",
              "      background-color: #434B5C;\n",
              "      box-shadow: 0px 1px 3px 1px rgba(0, 0, 0, 0.15);\n",
              "      filter: drop-shadow(0px 1px 2px rgba(0, 0, 0, 0.3));\n",
              "      fill: #FFFFFF;\n",
              "    }\n",
              "  </style>\n",
              "\n",
              "    <script>\n",
              "      const buttonEl =\n",
              "        document.querySelector('#df-1d1987a1-4cfd-442c-829b-5a4979674941 button.colab-df-convert');\n",
              "      buttonEl.style.display =\n",
              "        google.colab.kernel.accessAllowed ? 'block' : 'none';\n",
              "\n",
              "      async function convertToInteractive(key) {\n",
              "        const element = document.querySelector('#df-1d1987a1-4cfd-442c-829b-5a4979674941');\n",
              "        const dataTable =\n",
              "          await google.colab.kernel.invokeFunction('convertToInteractive',\n",
              "                                                    [key], {});\n",
              "        if (!dataTable) return;\n",
              "\n",
              "        const docLinkHtml = 'Like what you see? Visit the ' +\n",
              "          '<a target=\"_blank\" href=https://colab.research.google.com/notebooks/data_table.ipynb>data table notebook</a>'\n",
              "          + ' to learn more about interactive tables.';\n",
              "        element.innerHTML = '';\n",
              "        dataTable['output_type'] = 'display_data';\n",
              "        await google.colab.output.renderOutput(dataTable, element);\n",
              "        const docLink = document.createElement('div');\n",
              "        docLink.innerHTML = docLinkHtml;\n",
              "        element.appendChild(docLink);\n",
              "      }\n",
              "    </script>\n",
              "  </div>\n",
              "\n",
              "\n",
              "<div id=\"df-14c8c793-f2b6-4828-a926-26052c72ebe5\">\n",
              "  <button class=\"colab-df-quickchart\" onclick=\"quickchart('df-14c8c793-f2b6-4828-a926-26052c72ebe5')\"\n",
              "            title=\"Suggest charts\"\n",
              "            style=\"display:none;\">\n",
              "\n",
              "<svg xmlns=\"http://www.w3.org/2000/svg\" height=\"24px\"viewBox=\"0 0 24 24\"\n",
              "     width=\"24px\">\n",
              "    <g>\n",
              "        <path d=\"M19 3H5c-1.1 0-2 .9-2 2v14c0 1.1.9 2 2 2h14c1.1 0 2-.9 2-2V5c0-1.1-.9-2-2-2zM9 17H7v-7h2v7zm4 0h-2V7h2v10zm4 0h-2v-4h2v4z\"/>\n",
              "    </g>\n",
              "</svg>\n",
              "  </button>\n",
              "\n",
              "<style>\n",
              "  .colab-df-quickchart {\n",
              "      --bg-color: #E8F0FE;\n",
              "      --fill-color: #1967D2;\n",
              "      --hover-bg-color: #E2EBFA;\n",
              "      --hover-fill-color: #174EA6;\n",
              "      --disabled-fill-color: #AAA;\n",
              "      --disabled-bg-color: #DDD;\n",
              "  }\n",
              "\n",
              "  [theme=dark] .colab-df-quickchart {\n",
              "      --bg-color: #3B4455;\n",
              "      --fill-color: #D2E3FC;\n",
              "      --hover-bg-color: #434B5C;\n",
              "      --hover-fill-color: #FFFFFF;\n",
              "      --disabled-bg-color: #3B4455;\n",
              "      --disabled-fill-color: #666;\n",
              "  }\n",
              "\n",
              "  .colab-df-quickchart {\n",
              "    background-color: var(--bg-color);\n",
              "    border: none;\n",
              "    border-radius: 50%;\n",
              "    cursor: pointer;\n",
              "    display: none;\n",
              "    fill: var(--fill-color);\n",
              "    height: 32px;\n",
              "    padding: 0;\n",
              "    width: 32px;\n",
              "  }\n",
              "\n",
              "  .colab-df-quickchart:hover {\n",
              "    background-color: var(--hover-bg-color);\n",
              "    box-shadow: 0 1px 2px rgba(60, 64, 67, 0.3), 0 1px 3px 1px rgba(60, 64, 67, 0.15);\n",
              "    fill: var(--button-hover-fill-color);\n",
              "  }\n",
              "\n",
              "  .colab-df-quickchart-complete:disabled,\n",
              "  .colab-df-quickchart-complete:disabled:hover {\n",
              "    background-color: var(--disabled-bg-color);\n",
              "    fill: var(--disabled-fill-color);\n",
              "    box-shadow: none;\n",
              "  }\n",
              "\n",
              "  .colab-df-spinner {\n",
              "    border: 2px solid var(--fill-color);\n",
              "    border-color: transparent;\n",
              "    border-bottom-color: var(--fill-color);\n",
              "    animation:\n",
              "      spin 1s steps(1) infinite;\n",
              "  }\n",
              "\n",
              "  @keyframes spin {\n",
              "    0% {\n",
              "      border-color: transparent;\n",
              "      border-bottom-color: var(--fill-color);\n",
              "      border-left-color: var(--fill-color);\n",
              "    }\n",
              "    20% {\n",
              "      border-color: transparent;\n",
              "      border-left-color: var(--fill-color);\n",
              "      border-top-color: var(--fill-color);\n",
              "    }\n",
              "    30% {\n",
              "      border-color: transparent;\n",
              "      border-left-color: var(--fill-color);\n",
              "      border-top-color: var(--fill-color);\n",
              "      border-right-color: var(--fill-color);\n",
              "    }\n",
              "    40% {\n",
              "      border-color: transparent;\n",
              "      border-right-color: var(--fill-color);\n",
              "      border-top-color: var(--fill-color);\n",
              "    }\n",
              "    60% {\n",
              "      border-color: transparent;\n",
              "      border-right-color: var(--fill-color);\n",
              "    }\n",
              "    80% {\n",
              "      border-color: transparent;\n",
              "      border-right-color: var(--fill-color);\n",
              "      border-bottom-color: var(--fill-color);\n",
              "    }\n",
              "    90% {\n",
              "      border-color: transparent;\n",
              "      border-bottom-color: var(--fill-color);\n",
              "    }\n",
              "  }\n",
              "</style>\n",
              "\n",
              "  <script>\n",
              "    async function quickchart(key) {\n",
              "      const quickchartButtonEl =\n",
              "        document.querySelector('#' + key + ' button');\n",
              "      quickchartButtonEl.disabled = true;  // To prevent multiple clicks.\n",
              "      quickchartButtonEl.classList.add('colab-df-spinner');\n",
              "      try {\n",
              "        const charts = await google.colab.kernel.invokeFunction(\n",
              "            'suggestCharts', [key], {});\n",
              "      } catch (error) {\n",
              "        console.error('Error during call to suggestCharts:', error);\n",
              "      }\n",
              "      quickchartButtonEl.classList.remove('colab-df-spinner');\n",
              "      quickchartButtonEl.classList.add('colab-df-quickchart-complete');\n",
              "    }\n",
              "    (() => {\n",
              "      let quickchartButtonEl =\n",
              "        document.querySelector('#df-14c8c793-f2b6-4828-a926-26052c72ebe5 button');\n",
              "      quickchartButtonEl.style.display =\n",
              "        google.colab.kernel.accessAllowed ? 'block' : 'none';\n",
              "    })();\n",
              "  </script>\n",
              "</div>\n",
              "\n",
              "    </div>\n",
              "  </div>\n"
            ],
            "text/plain": [
              "               NO     PARITAS\n",
              "count  561.000000  561.000000\n",
              "mean   281.859180    1.709447\n",
              "std    162.301009    1.012105\n",
              "min      1.000000    0.000000\n",
              "25%    142.000000    1.000000\n",
              "50%    282.000000    2.000000\n",
              "75%    422.000000    2.000000\n",
              "max    562.000000    6.000000"
            ]
          },
          "execution_count": 12,
          "metadata": {},
          "output_type": "execute_result"
        }
      ],
      "source": [
        "data.describe()"
      ]
    },
    {
      "cell_type": "code",
      "execution_count": 13,
      "metadata": {
        "id": "V2tGxLBHLgk0"
      },
      "outputs": [],
      "source": [
        "import numpy as np\n"
      ]
    },
    {
      "cell_type": "code",
      "execution_count": 14,
      "metadata": {
        "id": "GY9PvkxMLTTs"
      },
      "outputs": [],
      "source": [
        "data.replace(\"?\", np.nan, inplace= True)"
      ]
    },
    {
      "cell_type": "code",
      "execution_count": null,
      "metadata": {
        "colab": {
          "base_uri": "https://localhost:8080/"
        },
        "id": "t3FEAF_3LlZj",
        "outputId": "b92a46ba-2e48-433f-efdd-911fb23fa3b9"
      },
      "outputs": [],
      "source": [
        "data.info()"
      ]
    },
    {
      "cell_type": "code",
      "execution_count": 16,
      "metadata": {
        "colab": {
          "base_uri": "https://localhost:8080/",
          "height": 178
        },
        "id": "lb7uxw2JL1sJ",
        "outputId": "0fb078d3-6ec1-47f8-934f-4d326150a1a0"
      },
      "outputs": [
        {
          "data": {
            "text/html": [
              "<div>\n",
              "<style scoped>\n",
              "    .dataframe tbody tr th:only-of-type {\n",
              "        vertical-align: middle;\n",
              "    }\n",
              "\n",
              "    .dataframe tbody tr th {\n",
              "        vertical-align: top;\n",
              "    }\n",
              "\n",
              "    .dataframe thead th {\n",
              "        text-align: right;\n",
              "    }\n",
              "</style>\n",
              "<table border=\"1\" class=\"dataframe\">\n",
              "  <thead>\n",
              "    <tr style=\"text-align: right;\">\n",
              "      <th></th>\n",
              "      <th>0</th>\n",
              "    </tr>\n",
              "  </thead>\n",
              "  <tbody>\n",
              "    <tr>\n",
              "      <th>USIA</th>\n",
              "      <td>0.534759</td>\n",
              "    </tr>\n",
              "    <tr>\n",
              "      <th>JARAK KELAHIRAN</th>\n",
              "      <td>1.247772</td>\n",
              "    </tr>\n",
              "    <tr>\n",
              "      <th>Unnamed: 12</th>\n",
              "      <td>98.039216</td>\n",
              "    </tr>\n",
              "  </tbody>\n",
              "</table>\n",
              "</div><br><label><b>dtype:</b> float64</label>"
            ],
            "text/plain": [
              "USIA                0.534759\n",
              "JARAK KELAHIRAN     1.247772\n",
              "Unnamed: 12        98.039216\n",
              "dtype: float64"
            ]
          },
          "execution_count": 16,
          "metadata": {},
          "output_type": "execute_result"
        }
      ],
      "source": [
        "data.loc[:,list(data.loc[:,data.isnull().any()].columns)].isnull().sum()/(len(data))*100"
      ]
    },
    {
      "cell_type": "code",
      "execution_count": 17,
      "metadata": {
        "id": "3iljCI9FMWAp"
      },
      "outputs": [],
      "source": [
        "data = data.loc[:,data.apply(pd.Series.nunique) != 1]"
      ]
    },
    {
      "cell_type": "code",
      "execution_count": null,
      "metadata": {
        "colab": {
          "base_uri": "https://localhost:8080/"
        },
        "id": "AZ_nB93TMbo2",
        "outputId": "6a681348-2df5-4a2b-f721-f12e262eef62"
      },
      "outputs": [],
      "source": [
        "data.info()"
      ]
    },
    {
      "cell_type": "code",
      "execution_count": 20,
      "metadata": {
        "colab": {
          "base_uri": "https://localhost:8080/",
          "height": 1000
        },
        "id": "vWK4TeCiQHVh",
        "outputId": "6e679a9b-038e-46b0-fc08-830270f3d919"
      },
      "outputs": [],
      "source": [
        "import matplotlib.pyplot as plt\n",
        "import seaborn as sns\n",
        "\n",
        "plt.subplots(figsize = (20,10))\n",
        "sns.countplot(x=data['PE/Non PE'],order=data['PE/Non PE'].value_counts().index,hue=data['NAMA'])\n",
        "plt.show()"
      ]
    },
    {
      "cell_type": "code",
      "execution_count": null,
      "metadata": {
        "colab": {
          "base_uri": "https://localhost:8080/",
          "height": 1000
        },
        "id": "JLhgBKHYQxHm",
        "outputId": "fc5faa7d-ca4e-4720-b9e9-3e34e40d05f6"
      },
      "outputs": [],
      "source": [
        "import matplotlib.pyplot as plt\n",
        "import seaborn as sns\n",
        "\n",
        "plt.subplots(figsize = (20,10))\n",
        "sns.countplot(x=data['OBESITAS'],order=data['OBESITAS'].value_counts().index,hue=data['NAMA'])\n",
        "plt.show()"
      ]
    }
  ],
  "metadata": {
    "colab": {
      "provenance": []
    },
    "kernelspec": {
      "display_name": "Python 3",
      "name": "python3"
    },
    "language_info": {
      "name": "python",
      "version": "3.11.9"
    }
  },
  "nbformat": 4,
  "nbformat_minor": 0
}
