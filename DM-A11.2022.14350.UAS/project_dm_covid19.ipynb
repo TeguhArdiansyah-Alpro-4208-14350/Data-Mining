{
  "cells": [
    {
      "cell_type": "markdown",
      "source": [
        "# UAS Project Documentation\n",
        "\n",
        "## 1. Judul / Topik Project dan Identitas Lengkap\n",
        "**Judul**: Analisis Data Konsumsi Makanan dan Non-Makanan di Indonesia Berdasarkan Provinsi.\n",
        "\n",
        "**Nama**: Ferry Sandya Nugroho\n",
        "\n",
        "**NIM**: A11.2022.14339\n",
        "\n",
        "**Kelp**: A11.4517\n",
        "\n",
  {
   "cell_type": "markdown",
   "id": "68690a21",
   "metadata": {},
   "source": [
    "## 1. Pendahuluan\n",
    "Dalam project ini, kita akan menganalisis data COVID-19 di Indonesia. Tujuan dari analisis ini adalah untuk memahami tren kasus baru, tingkat kesembuhan, dan tingkat kematian berdasarkan data per provinsi.\n",
    "\n",
    "### Tujuan\n",
    "- Menganalisis tren data.\n",
    "- Mengidentifikasi provinsi dengan kasus tertinggi.\n",
    "- Mengukur performa model prediksi sederhana."
   ]
  },
  {
   "cell_type": "code",
   "execution_count": null,
   "id": "1c81887b",
   "metadata": {},
   "outputs": [],
   "source": [
    "import pandas as pd\n",
    "import matplotlib.pyplot as plt\n",
    "import seaborn as sns\n",
    "\n",
    "# Memuat dataset\n",
    "file_path = 'dataset_covid_indonesia.csv'  # Pastikan file ini ada di direktori kerja Anda\n",
    "data = pd.read_csv(file_path)\n",
    "data.head()"
   ]
  },
  {
   "cell_type": "markdown",
   "id": "634ee853",
   "metadata": {},
   "source": [
    "## 2. Eksplorasi Data (EDA)\n",
    "Pada tahap ini, kita akan mengeksplorasi dataset untuk memahami pola dan tren dalam data."
   ]
  },
  {
   "cell_type": "code",
   "execution_count": null,
   "id": "f2481634",
   "metadata": {},
   "outputs": [],
   "source": [
    "# Informasi umum dataset\n",
    "data.info()\n",
    "\n",
    "# Statistik deskriptif dataset\n",
    "data.describe()\n",
    "\n",
    "# Visualisasi data\n",
    "plt.figure(figsize=(10, 6))\n",
    "sns.lineplot(data=data, x='Tanggal', y='Kasus Baru', hue='Provinsi')\n",
    "plt.title('Tren Kasus Baru per Provinsi')\n",
    "plt.xticks(rotation=45)\n",
    "plt.show()"
   ]
  },
  {
   "cell_type": "markdown",
   "id": "7955a7b3",
   "metadata": {},
   "source": [
    "## 3. Proses Modeling\n",
    "Pada bagian ini, kita akan membuat model sederhana untuk memprediksi jumlah kasus baru."
   ]
  },
  {
   "cell_type": "code",
   "execution_count": null,
   "id": "8aa9e8e7",
   "metadata": {},
   "outputs": [],
   "source": [
    "# Contoh sederhana: Prediksi menggunakan regresi linear\n",
    "from sklearn.model_selection import train_test_split\n",
    "from sklearn.linear_model import LinearRegression\n",
    "from sklearn.metrics import mean_squared_error\n",
    "\n",
    "# Preprocessing data\n",
    "data['Tanggal'] = pd.to_datetime(data['Tanggal'])\n",
    "data['Hari'] = (data['Tanggal'] - data['Tanggal'].min()).dt.days\n",
    "\n",
    "X = data[['Hari']]\n",
    "y = data['Kasus Baru']\n",
    "\n",
    "X_train, X_test, y_train, y_test = train_test_split(X, y, test_size=0.2, random_state=42)\n",
    "\n",
    "# Membuat model\n",
    "model = LinearRegression()\n",
    "model.fit(X_train, y_train)\n",
    "\n",
    "# Evaluasi model\n",
    "y_pred = model.predict(X_test)\n",
    "mse = mean_squared_error(y_test, y_pred)\n",
    "print(f'Mean Squared Error: {mse}')"
   ]
  },
  {
   "cell_type": "markdown",
   "id": "aea38544",
   "metadata": {},
   "source": [
    "## 4. Kesimpulan\n",
    "Dari analisis dan modeling yang dilakukan, kita dapat melihat tren kasus baru COVID-19 di Indonesia dan performa model prediksi sederhana. Penyesuaian model lebih lanjut dapat meningkatkan akurasi prediksi.\n"
   ]
  }
 ],
 "metadata": {},
 "nbformat": 4,
 "nbformat_minor": 5
}
