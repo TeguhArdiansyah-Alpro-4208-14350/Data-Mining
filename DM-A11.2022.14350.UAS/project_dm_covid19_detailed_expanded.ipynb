{
 "cells": [
  {
   "cell_type": "markdown",
   "id": "8ea4352e",
   "metadata": {},
   "source": [
    "# Project Data Mining: Analisis COVID-19 di Indonesia\n",
    "**Nama:** [Isi Nama Anda]\n",
    "**NIM:** [Isi NIM Anda]\n",
    "**Kelas:** [Isi Kelas Anda]\n"
   ]
  },
  {
   "cell_type": "markdown",
   "id": "2c1dc481",
   "metadata": {},
   "source": [
    "## 1. Pendahuluan\n",
    "Pandemi COVID-19 telah memberikan dampak besar terhadap kehidupan masyarakat di seluruh dunia, termasuk di Indonesia. Analisis data COVID-19 dapat membantu kita memahami penyebaran penyakit ini dan memberikan wawasan yang dapat mendukung pengambilan keputusan yang lebih baik.\n",
    "\n",
    "**Dataset** yang digunakan berisi informasi harian mengenai kasus baru, kasus aktif, jumlah pasien sembuh, dan jumlah kematian akibat COVID-19 di Indonesia yang dikelompokkan berdasarkan provinsi.\n",
    "\n",
    "### Tujuan\n",
    "1. Memahami pola dan tren data COVID-19 di Indonesia.\n",
    "2. Mengidentifikasi provinsi dengan jumlah kasus tertinggi.\n",
    "3. Membangun model prediktif sederhana untuk memproyeksikan jumlah kasus baru di masa depan."
   ]
  },
  {
   "cell_type": "markdown",
   "id": "b3053bda",
   "metadata": {},
   "source": [
    "## 2. Memuat Dataset\n",
    "Dataset yang digunakan adalah file `dataset_covid_indonesia.csv` yang berisi data COVID-19 di Indonesia. Langkah pertama adalah memuat dan memeriksa dataset ini."
   ]
  },
  {
   "cell_type": "code",
   "execution_count": null,
   "id": "9439d75a",
   "metadata": {},
   "outputs": [],
   "source": [
    "import pandas as pd\n",
    "import matplotlib.pyplot as plt\n",
    "import seaborn as sns\n",
    "\n",
    "# Memuat dataset\n",
    "file_path = 'dataset_covid_indonesia.csv'  # Pastikan file ini ada di direktori kerja Anda\n",
    "data = pd.read_csv(file_path)\n",
    "data.head()"
   ]
  },
  {
   "cell_type": "markdown",
   "id": "7ded05b8",
   "metadata": {},
   "source": [
    "## 3. Eksplorasi Data (EDA)\n",
    "Tahap ini bertujuan untuk memahami struktur, distribusi, dan pola dalam data."
   ]
  },
  {
   "cell_type": "code",
   "execution_count": null,
   "id": "db4ffce3",
   "metadata": {},
   "outputs": [],
   "source": [
    "# Informasi dasar tentang dataset\n",
    "print('Informasi Dataset:')\n",
    "data.info()\n",
    "\n",
    "# Statistik deskriptif\n",
    "print('Statistik Deskriptif:')\n",
    "print(data.describe())\n",
    "\n",
    "# Nilai yang hilang\n",
    "missing_values = data.isnull().sum()\n",
    "print('Nilai yang Hilang:')\n",
    "print(missing_values)"
   ]
  },
  {
   "cell_type": "markdown",
   "id": "d348fd3c",
   "metadata": {},
   "source": [
    "### 3.1 Visualisasi Tren Data\n",
    "Visualisasi digunakan untuk memahami tren data COVID-19 berdasarkan waktu."
   ]
  },
  {
   "cell_type": "code",
   "execution_count": null,
   "id": "8bef24eb",
   "metadata": {},
   "outputs": [],
   "source": [
    "# Visualisasi tren kasus baru per hari secara nasional\n",
    "plt.figure(figsize=(10, 6))\n",
    "data.groupby('Tanggal')['Kasus Baru'].sum().plot(color='blue')\n",
    "plt.title('Tren Kasus Baru Nasional', fontsize=14)\n",
    "plt.ylabel('Jumlah Kasus Baru')\n",
    "plt.xlabel('Tanggal')\n",
    "plt.xticks(rotation=45)\n",
    "plt.grid()\n",
    "plt.show()\n",
    "\n",
    "# Perbandingan total kasus per provinsi\n",
    "plt.figure(figsize=(12, 6))\n",
    "data.groupby('Provinsi')['Kasus Baru'].sum().sort_values(ascending=False).plot(kind='bar', color='orange')\n",
    "plt.title('Total Kasus Baru per Provinsi', fontsize=14)\n",
    "plt.ylabel('Jumlah Kasus Baru')\n",
    "plt.xlabel('Provinsi')\n",
    "plt.xticks(rotation=90)\n",
    "plt.grid(axis='y')\n",
    "plt.show()"
   ]
  },
  {
   "cell_type": "markdown",
   "id": "2c5e92b2",
   "metadata": {},
   "source": [
    "## 4. Proses Modeling\n",
    "Pada tahap ini, kita akan membuat model sederhana untuk memprediksi jumlah kasus baru berdasarkan waktu. Model yang digunakan adalah Regresi Linear."
   ]
  },
  {
   "cell_type": "code",
   "execution_count": null,
   "id": "8a33ec69",
   "metadata": {},
   "outputs": [],
   "source": [
    "# Mengolah data untuk modeling\n",
    "from sklearn.model_selection import train_test_split\n",
    "from sklearn.linear_model import LinearRegression\n",
    "from sklearn.metrics import mean_squared_error, r2_score\n",
    "\n",
    "# Mengubah tanggal menjadi format numerik\n",
    "data['Tanggal'] = pd.to_datetime(data['Tanggal'])\n",
    "data['Hari'] = (data['Tanggal'] - data['Tanggal'].min()).dt.days\n",
    "\n",
    "# Fokus pada provinsi tertentu (contoh: DKI Jakarta)\n",
    "data_jakarta = data[data['Provinsi'] == 'DKI Jakarta']\n",
    "\n",
    "# Membagi data menjadi fitur (X) dan target (y)\n",
    "X = data_jakarta[['Hari']]\n",
    "y = data_jakarta['Kasus Baru']\n",
    "\n",
    "X_train, X_test, y_train, y_test = train_test_split(X, y, test_size=0.2, random_state=42)\n",
    "\n",
    "# Membuat dan melatih model\n",
    "model = LinearRegression()\n",
    "model.fit(X_train, y_train)\n",
    "\n",
    "# Evaluasi model\n",
    "y_pred = model.predict(X_test)\n",
    "mse = mean_squared_error(y_test, y_pred)\n",
    "r2 = r2_score(y_test, y_pred)\n",
    "\n",
    "print(f'Mean Squared Error (MSE): {mse}')\n",
    "print(f'R-squared (R2): {r2}')"
   ]
  },
  {
   "cell_type": "code",
   "execution_count": null,
   "id": "8f3d204a",
   "metadata": {},
   "outputs": [],
   "source": [
    "# Visualisasi hasil prediksi\n",
    "plt.figure(figsize=(8, 6))\n",
    "plt.scatter(X_test, y_test, color='blue', label='Data Aktual')\n",
    "plt.plot(X_test, y_pred, color='red', label='Prediksi Model')\n",
    "plt.title('Prediksi Kasus Baru DKI Jakarta', fontsize=14)\n",
    "plt.xlabel('Hari')\n",
    "plt.ylabel('Kasus Baru')\n",
    "plt.legend()\n",
    "plt.grid()\n",
    "plt.show()"
   ]
  },
  {
   "cell_type": "markdown",
   "id": "79779cdf",
   "metadata": {},
   "source": [
    "## 5. Kesimpulan\n",
    "Dari hasil analisis, berikut beberapa kesimpulan yang dapat diambil:\n",
    "1. Tren kasus baru COVID-19 bervariasi antar provinsi, dengan beberapa provinsi memiliki jumlah kasus yang jauh lebih tinggi dibandingkan lainnya.\n",
    "2. Regresi Linear sederhana memberikan gambaran dasar prediksi tren kasus baru, namun memiliki keterbatasan dalam menangkap kompleksitas data.\n",
    "3. Untuk akurasi lebih baik, disarankan menggunakan model yang lebih kompleks dan mempertimbangkan variabel tambahan.\n",
    "\n",
    "**Catatan:** Dataset yang lebih lengkap akan meningkatkan kualitas analisis dan prediksi."
   ]
  }
 ],
 "metadata": {},
 "nbformat": 4,
 "nbformat_minor": 5
}